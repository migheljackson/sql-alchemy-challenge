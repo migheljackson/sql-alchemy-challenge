{
 "cells": [
  {
   "cell_type": "code",
   "execution_count": 1,
   "metadata": {},
   "outputs": [],
   "source": [
    "%matplotlib inline\n",
    "from matplotlib import style\n",
    "style.use('fivethirtyeight')\n",
    "import matplotlib.pyplot as plt"
   ]
  },
  {
   "cell_type": "code",
   "execution_count": 2,
   "metadata": {},
   "outputs": [],
   "source": [
    "import numpy as np\n",
    "import pandas as pd\n",
    "import datetime as dt"
   ]
  },
  {
   "cell_type": "markdown",
   "metadata": {},
   "source": [
    "# Reflect Tables into SQLAlchemy ORM"
   ]
  },
  {
   "cell_type": "code",
   "execution_count": 3,
   "metadata": {},
   "outputs": [],
   "source": [
    "# Python SQL toolkit and Object Relational Mapper\n",
    "import sqlalchemy\n",
    "from sqlalchemy.ext.automap import automap_base\n",
    "from sqlalchemy.orm import Session\n",
    "from sqlalchemy import create_engine, inspect, func"
   ]
  },
  {
   "cell_type": "code",
   "execution_count": 4,
   "metadata": {},
   "outputs": [],
   "source": [
    "# create engine to hawaii.sqlite\n",
    "engine = create_engine(\"sqlite:///Resources/hawaii.sqlite\")"
   ]
  },
  {
   "cell_type": "code",
   "execution_count": 5,
   "metadata": {},
   "outputs": [],
   "source": [
    "# reflect an existing database into a new model\n",
    "Base = automap_base()\n",
    "\n",
    "# reflect the tables\n",
    "Base.prepare(engine, reflect=True)"
   ]
  },
  {
   "cell_type": "code",
   "execution_count": 7,
   "metadata": {},
   "outputs": [
    {
     "data": {
      "text/plain": [
       "['measurement', 'station']"
      ]
     },
     "execution_count": 7,
     "metadata": {},
     "output_type": "execute_result"
    }
   ],
   "source": [
    "# View all of the classes that automap found\n",
    "Base.classes.keys()"
   ]
  },
  {
   "cell_type": "code",
   "execution_count": 8,
   "metadata": {},
   "outputs": [],
   "source": [
    "# Save references to each table\n",
    "measurement=Base.classes.measurement\n",
    "station=Base.classes.station"
   ]
  },
  {
   "cell_type": "code",
   "execution_count": 9,
   "metadata": {},
   "outputs": [],
   "source": [
    "# Create our session (link) from Python to the DB\n",
    "session=Session(engine)"
   ]
  },
  {
   "cell_type": "markdown",
   "metadata": {},
   "source": [
    "# Exploratory Precipitation Analysis"
   ]
  },
  {
   "cell_type": "code",
   "execution_count": 15,
   "metadata": {},
   "outputs": [
    {
     "name": "stdout",
     "output_type": "stream",
     "text": [
      "id INTEGER\n",
      "station TEXT\n",
      "date TEXT\n",
      "prcp FLOAT\n",
      "tobs FLOAT\n"
     ]
    }
   ],
   "source": [
    "# Use Inspector to print the column names and types\n",
    "columns = inspector.get_columns('measurement')\n",
    "for c in columns:\n",
    "    print(c['name'], c[\"type\"])"
   ]
  },
  {
   "cell_type": "code",
   "execution_count": 13,
   "metadata": {},
   "outputs": [
    {
     "name": "stdout",
     "output_type": "stream",
     "text": [
      "id INTEGER\n",
      "station TEXT\n",
      "name TEXT\n",
      "latitude FLOAT\n",
      "longitude FLOAT\n",
      "elevation FLOAT\n"
     ]
    }
   ],
   "source": [
    "# Use Inspector to print the column names and types\n",
    "columns = inspector.get_columns('station')\n",
    "for c in columns:\n",
    "    print(c['name'], c[\"type\"])"
   ]
  },
  {
   "cell_type": "code",
   "execution_count": 16,
   "metadata": {},
   "outputs": [
    {
     "name": "stdout",
     "output_type": "stream",
     "text": [
      "('2017-08-23',)\n"
     ]
    }
   ],
   "source": [
    "# Find the most recent date in the measurement data set.\n",
    "for row in session.query(func.max(measurement.date)):\n",
    "    print(row)"
   ]
  },
  {
   "cell_type": "code",
   "execution_count": 17,
   "metadata": {},
   "outputs": [],
   "source": [
    "#Generate queries to create dataframes from\n",
    "prcp_date=session.query(measurement).filter(measurement.date >= '2016-08-23')\n",
    "station_q=session.query(station)"
   ]
  },
  {
   "cell_type": "code",
   "execution_count": 20,
   "metadata": {},
   "outputs": [],
   "source": [
    "#Create measurement dataframe\n",
    "measurement_df = pd.read_sql(prcp_date.statement, con=session.connection())"
   ]
  },
  {
   "cell_type": "code",
   "execution_count": 22,
   "metadata": {},
   "outputs": [],
   "source": [
    "measurement_sort_clean_df=measurement_df.sort_values(\"date\",ascending=False).dropna()"
   ]
  },
  {
   "cell_type": "code",
   "execution_count": 120,
   "metadata": {},
   "outputs": [
    {
     "data": {
      "image/png": "[encoded data removed]",
      "text/plain": [
       "<Figure size 432x288 with 1 Axes>"
      ]
     },
     "metadata": {},
     "output_type": "display_data"
    }
   ],
   "source": [
    "# Use Pandas Plotting with Matplotlib to plot precipitation over one year\n",
    "measurement_sort_clean_df.plot.bar(y=\"prcp\")\n",
    "plt.savefig('Resources\\precipitation.png')"
   ]
  },
  {
   "cell_type": "code",
   "execution_count": 138,
   "metadata": {},
   "outputs": [
    {
     "data": {
      "text/plain": [
       "count    2021.000000\n",
       "mean        0.177279\n",
       "std         0.461190\n",
       "min         0.000000\n",
       "25%         0.000000\n",
       "50%         0.020000\n",
       "75%         0.130000\n",
       "max         6.700000\n",
       "Name: prcp, dtype: float64"
      ]
     },
     "execution_count": 138,
     "metadata": {},
     "output_type": "execute_result"
    }
   ],
   "source": [
    "# Use Pandas to calcualte the summary statistics for the precipitation data\n",
    "measurement_sort_clean_df['prcp'].describe()"
   ]
  },
  {
   "cell_type": "markdown",
   "metadata": {},
   "source": [
    "# Exploratory Station Analysis"
   ]
  },
  {
   "cell_type": "code",
   "execution_count": 23,
   "metadata": {},
   "outputs": [
    {
     "data": {
      "text/html": [
       "<div>\n",
       "<style scoped>\n",
       "    .dataframe tbody tr th:only-of-type {\n",
       "        vertical-align: middle;\n",
       "    }\n",
       "\n",
       "    .dataframe tbody tr th {\n",
       "        vertical-align: top;\n",
       "    }\n",
       "\n",
       "    .dataframe thead th {\n",
       "        text-align: right;\n",
       "    }\n",
       "</style>\n",
       "<table border=\"1\" class=\"dataframe\">\n",
       "  <thead>\n",
       "    <tr style=\"text-align: right;\">\n",
       "      <th></th>\n",
       "      <th>id</th>\n",
       "      <th>name</th>\n",
       "      <th>latitude</th>\n",
       "      <th>longitude</th>\n",
       "      <th>elevation</th>\n",
       "    </tr>\n",
       "    <tr>\n",
       "      <th>station</th>\n",
       "      <th></th>\n",
       "      <th></th>\n",
       "      <th></th>\n",
       "      <th></th>\n",
       "      <th></th>\n",
       "    </tr>\n",
       "  </thead>\n",
       "  <tbody>\n",
       "    <tr>\n",
       "      <th>USC00519397</th>\n",
       "      <td>1</td>\n",
       "      <td>WAIKIKI 717.2, HI US</td>\n",
       "      <td>21.27160</td>\n",
       "      <td>-157.81680</td>\n",
       "      <td>3.0</td>\n",
       "    </tr>\n",
       "    <tr>\n",
       "      <th>USC00513117</th>\n",
       "      <td>2</td>\n",
       "      <td>KANEOHE 838.1, HI US</td>\n",
       "      <td>21.42340</td>\n",
       "      <td>-157.80150</td>\n",
       "      <td>14.6</td>\n",
       "    </tr>\n",
       "    <tr>\n",
       "      <th>USC00514830</th>\n",
       "      <td>3</td>\n",
       "      <td>KUALOA RANCH HEADQUARTERS 886.9, HI US</td>\n",
       "      <td>21.52130</td>\n",
       "      <td>-157.83740</td>\n",
       "      <td>7.0</td>\n",
       "    </tr>\n",
       "    <tr>\n",
       "      <th>USC00517948</th>\n",
       "      <td>4</td>\n",
       "      <td>PEARL CITY, HI US</td>\n",
       "      <td>21.39340</td>\n",
       "      <td>-157.97510</td>\n",
       "      <td>11.9</td>\n",
       "    </tr>\n",
       "    <tr>\n",
       "      <th>USC00518838</th>\n",
       "      <td>5</td>\n",
       "      <td>UPPER WAHIAWA 874.3, HI US</td>\n",
       "      <td>21.49920</td>\n",
       "      <td>-158.01110</td>\n",
       "      <td>306.6</td>\n",
       "    </tr>\n",
       "    <tr>\n",
       "      <th>USC00519523</th>\n",
       "      <td>6</td>\n",
       "      <td>WAIMANALO EXPERIMENTAL FARM, HI US</td>\n",
       "      <td>21.33556</td>\n",
       "      <td>-157.71139</td>\n",
       "      <td>19.5</td>\n",
       "    </tr>\n",
       "    <tr>\n",
       "      <th>USC00519281</th>\n",
       "      <td>7</td>\n",
       "      <td>WAIHEE 837.5, HI US</td>\n",
       "      <td>21.45167</td>\n",
       "      <td>-157.84889</td>\n",
       "      <td>32.9</td>\n",
       "    </tr>\n",
       "    <tr>\n",
       "      <th>USC00511918</th>\n",
       "      <td>8</td>\n",
       "      <td>HONOLULU OBSERVATORY 702.2, HI US</td>\n",
       "      <td>21.31520</td>\n",
       "      <td>-157.99920</td>\n",
       "      <td>0.9</td>\n",
       "    </tr>\n",
       "    <tr>\n",
       "      <th>USC00516128</th>\n",
       "      <td>9</td>\n",
       "      <td>MANOA LYON ARBO 785.2, HI US</td>\n",
       "      <td>21.33310</td>\n",
       "      <td>-157.80250</td>\n",
       "      <td>152.4</td>\n",
       "    </tr>\n",
       "  </tbody>\n",
       "</table>\n",
       "</div>"
      ],
      "text/plain": [
       "             id                                    name  latitude  longitude  \\\n",
       "station                                                                        \n",
       "USC00519397   1                    WAIKIKI 717.2, HI US  21.27160 -157.81680   \n",
       "USC00513117   2                    KANEOHE 838.1, HI US  21.42340 -157.80150   \n",
       "USC00514830   3  KUALOA RANCH HEADQUARTERS 886.9, HI US  21.52130 -157.83740   \n",
       "USC00517948   4                       PEARL CITY, HI US  21.39340 -157.97510   \n",
       "USC00518838   5              UPPER WAHIAWA 874.3, HI US  21.49920 -158.01110   \n",
       "USC00519523   6      WAIMANALO EXPERIMENTAL FARM, HI US  21.33556 -157.71139   \n",
       "USC00519281   7                     WAIHEE 837.5, HI US  21.45167 -157.84889   \n",
       "USC00511918   8       HONOLULU OBSERVATORY 702.2, HI US  21.31520 -157.99920   \n",
       "USC00516128   9            MANOA LYON ARBO 785.2, HI US  21.33310 -157.80250   \n",
       "\n",
       "             elevation  \n",
       "station                 \n",
       "USC00519397        3.0  \n",
       "USC00513117       14.6  \n",
       "USC00514830        7.0  \n",
       "USC00517948       11.9  \n",
       "USC00518838      306.6  \n",
       "USC00519523       19.5  \n",
       "USC00519281       32.9  \n",
       "USC00511918        0.9  \n",
       "USC00516128      152.4  "
      ]
     },
     "execution_count": 23,
     "metadata": {},
     "output_type": "execute_result"
    }
   ],
   "source": [
    "#Create stations dataframe\n",
    "station_df = pd.read_sql(station_q.statement, con=session.connection(), index_col=\"station\")"
   ]
  },
  {
   "cell_type": "code",
   "execution_count": 24,
   "metadata": {},
   "outputs": [],
   "source": [
    "#Merge measurement and stations dataframes\n",
    "stat_meas=pd.merge(measurement_sort_clean_df,station_df,how='inner',on='station')"
   ]
  },
  {
   "cell_type": "code",
   "execution_count": 25,
   "metadata": {},
   "outputs": [
    {
     "data": {
      "text/plain": [
       "station\n",
       "USC00519397    359\n",
       "USC00519281    352\n",
       "USC00513117    343\n",
       "USC00516128    328\n",
       "USC00519523    314\n",
       "USC00514830    265\n",
       "USC00517948     60\n",
       "Name: date, dtype: int64"
      ]
     },
     "execution_count": 25,
     "metadata": {},
     "output_type": "execute_result"
    }
   ],
   "source": [
    "# Design a query to find the most active stations (i.e. what stations have the most rows?)\n",
    "# List the stations and the counts in descending order.\n",
    "#Sort stations to find the station with the most rows\n",
    "station_group=stat_meas.groupby(['station'])\n",
    "station_count=station_group['date'].count()\n",
    "station_sort=station_count.sort_values(ascending=False)\n",
    "station_sort"
   ]
  },
  {
   "cell_type": "code",
   "execution_count": 27,
   "metadata": {},
   "outputs": [
    {
     "data": {
      "text/plain": [
       "count    359.000000\n",
       "mean      75.197772\n",
       "std        4.973381\n",
       "min       60.000000\n",
       "25%       72.000000\n",
       "50%       77.000000\n",
       "75%       79.000000\n",
       "max       87.000000\n",
       "Name: tobs, dtype: float64"
      ]
     },
     "execution_count": 27,
     "metadata": {},
     "output_type": "execute_result"
    }
   ],
   "source": [
    "# Using the most active station id from the previous query, calculate the lowest, highest, and average temperature.\n",
    "active_station_filt_df=stat_meas[(stat_meas['station']=='USC00519397')]\n",
    "active_station_filt_df['tobs'].describe()"
   ]
  },
  {
   "cell_type": "code",
   "execution_count": 30,
   "metadata": {},
   "outputs": [
    {
     "data": {
      "image/png": "[encoded data removed]",
      "text/plain": [
       "<Figure size 432x288 with 1 Axes>"
      ]
     },
     "metadata": {},
     "output_type": "display_data"
    }
   ],
   "source": [
    "# Using the most active station id\n",
    "# Query the last 12 months of temperature observation data for this station and plot the results as a histogram\n",
    "plt.hist(x=active_station_filt_df['tobs'],bins=12)\n",
    "plt.show()"
   ]
  },
  {
   "cell_type": "markdown",
   "metadata": {},
   "source": [
    "# Close session"
   ]
  },
  {
   "cell_type": "code",
   "execution_count": 31,
   "metadata": {},
   "outputs": [],
   "source": [
    "# Close Session\n",
    "session.close()"
   ]
  },
  {
   "cell_type": "code",
   "execution_count": null,
   "metadata": {},
   "outputs": [],
   "source": []
  }
 ],
 "metadata": {
  "anaconda-cloud": {},
  "kernel_info": {
   "name": "python3"
  },
  "kernelspec": {
   "display_name": "Python 3",
   "language": "python",
   "name": "python3"
  },
  "language_info": {
   "codemirror_mode": {
    "name": "ipython",
    "version": 3
   },
   "file_extension": ".py",
   "mimetype": "text/x-python",
   "name": "python",
   "nbconvert_exporter": "python",
   "pygments_lexer": "ipython3",
   "version": "3.8.5"
  },
  "nteract": {
   "version": "0.12.3"
  },
  "varInspector": {
   "cols": {
    "lenName": 16,
    "lenType": 16,
    "lenVar": 40
   },
   "kernels_config": {
    "python": {
     "delete_cmd_postfix": "",
     "delete_cmd_prefix": "del ",
     "library": "var_list.py",
     "varRefreshCmd": "print(var_dic_list())"
    },
    "r": {
     "delete_cmd_postfix": ") ",
     "delete_cmd_prefix": "rm(",
     "library": "var_list.r",
     "varRefreshCmd": "cat(var_dic_list()) "
    }
   },
   "types_to_exclude": [
    "module",
    "function",
    "builtin_function_or_method",
    "instance",
    "_Feature"
   ],
   "window_display": false
  }
 },
 "nbformat": 4,
 "nbformat_minor": 4
}
